{
 "cells": [
  {
   "cell_type": "markdown",
   "id": "ad1d2264-6a5b-4446-a4f0-b91a30577556",
   "metadata": {},
   "source": [
    "## Importing Libraries and CSV File"
   ]
  },
  {
   "cell_type": "code",
   "execution_count": 2,
   "id": "3d484355-157b-4d6c-bdb2-927974298656",
   "metadata": {},
   "outputs": [],
   "source": [
    "import numpy as np\n",
    "import pandas as pd\n",
    "import matplotlib.pyplot as plt\n",
    "import seaborn as sns"
   ]
  },
  {
   "cell_type": "code",
   "execution_count": 3,
   "id": "a76af47d-c47e-4f3d-a714-171448a700ad",
   "metadata": {},
   "outputs": [],
   "source": [
    "df = pd.read_csv('life_expectancy.csv')"
   ]
  },
  {
   "cell_type": "markdown",
   "id": "998f009d-ef3d-4d14-9374-aacc8c2cec38",
   "metadata": {
    "tags": []
   },
   "source": [
    "## Data Cleaning"
   ]
  },
  {
   "cell_type": "markdown",
   "id": "9b5d17c8-2009-49f0-bba3-b566617dfbe5",
   "metadata": {},
   "source": [
    "Cleaning column names"
   ]
  },
  {
   "cell_type": "code",
   "execution_count": 4,
   "id": "a70b32cf-f73a-4bdb-a196-1cf45bcaaed3",
   "metadata": {},
   "outputs": [],
   "source": [
    "df.columns = df.columns.str.strip()\n",
    "df.columns = df.columns.str.title()"
   ]
  },
  {
   "cell_type": "code",
   "execution_count": 5,
   "id": "8329e8de-0a46-4ec0-9509-a1eced312841",
   "metadata": {},
   "outputs": [
    {
     "data": {
      "text/html": [
       "<div><div id=2d205052-772d-45d3-8580-eba5dce36583 style=\"display:none; background-color:#9D6CFF; color:white; width:200px; height:30px; padding-left:5px; border-radius:4px; flex-direction:row; justify-content:space-around; align-items:center;\" onmouseover=\"this.style.backgroundColor='#BA9BF8'\" onmouseout=\"this.style.backgroundColor='#9D6CFF'\" onclick=\"window.commands?.execute('create-mitosheet-from-dataframe-output');\">See Full Dataframe in Mito</div> <script> if (window.commands?.hasCommand('create-mitosheet-from-dataframe-output')) document.getElementById('2d205052-772d-45d3-8580-eba5dce36583').style.display = 'flex' </script> <table border=\"1\" class=\"dataframe\">\n",
       "  <thead>\n",
       "    <tr style=\"text-align: right;\">\n",
       "      <th></th>\n",
       "      <th>Country</th>\n",
       "      <th>Year</th>\n",
       "      <th>Status</th>\n",
       "      <th>Life Expectancy</th>\n",
       "      <th>Adult Mortality</th>\n",
       "      <th>Infant Deaths</th>\n",
       "      <th>Alcohol</th>\n",
       "      <th>Percentage Expenditure</th>\n",
       "      <th>Hepatitis B</th>\n",
       "      <th>Measles</th>\n",
       "      <th>...</th>\n",
       "      <th>Polio</th>\n",
       "      <th>Total Expenditure</th>\n",
       "      <th>Diphtheria</th>\n",
       "      <th>Hiv/Aids</th>\n",
       "      <th>Gdp</th>\n",
       "      <th>Population</th>\n",
       "      <th>Thinness  1-19 Years</th>\n",
       "      <th>Thinness 5-9 Years</th>\n",
       "      <th>Income Composition Of Resources</th>\n",
       "      <th>Schooling</th>\n",
       "    </tr>\n",
       "  </thead>\n",
       "  <tbody>\n",
       "    <tr>\n",
       "      <th>0</th>\n",
       "      <td>Afghanistan</td>\n",
       "      <td>2015</td>\n",
       "      <td>Developing</td>\n",
       "      <td>65.0</td>\n",
       "      <td>263.0</td>\n",
       "      <td>62</td>\n",
       "      <td>0.01</td>\n",
       "      <td>71.279624</td>\n",
       "      <td>65.0</td>\n",
       "      <td>1154</td>\n",
       "      <td>...</td>\n",
       "      <td>6.0</td>\n",
       "      <td>8.16</td>\n",
       "      <td>65.0</td>\n",
       "      <td>0.1</td>\n",
       "      <td>584.259210</td>\n",
       "      <td>33736494.0</td>\n",
       "      <td>17.2</td>\n",
       "      <td>17.3</td>\n",
       "      <td>0.479</td>\n",
       "      <td>10.1</td>\n",
       "    </tr>\n",
       "    <tr>\n",
       "      <th>1</th>\n",
       "      <td>Afghanistan</td>\n",
       "      <td>2014</td>\n",
       "      <td>Developing</td>\n",
       "      <td>59.9</td>\n",
       "      <td>271.0</td>\n",
       "      <td>64</td>\n",
       "      <td>0.01</td>\n",
       "      <td>73.523582</td>\n",
       "      <td>62.0</td>\n",
       "      <td>492</td>\n",
       "      <td>...</td>\n",
       "      <td>58.0</td>\n",
       "      <td>8.18</td>\n",
       "      <td>62.0</td>\n",
       "      <td>0.1</td>\n",
       "      <td>612.696514</td>\n",
       "      <td>327582.0</td>\n",
       "      <td>17.5</td>\n",
       "      <td>17.5</td>\n",
       "      <td>0.476</td>\n",
       "      <td>10.0</td>\n",
       "    </tr>\n",
       "    <tr>\n",
       "      <th>2</th>\n",
       "      <td>Afghanistan</td>\n",
       "      <td>2013</td>\n",
       "      <td>Developing</td>\n",
       "      <td>59.9</td>\n",
       "      <td>268.0</td>\n",
       "      <td>66</td>\n",
       "      <td>0.01</td>\n",
       "      <td>73.219243</td>\n",
       "      <td>64.0</td>\n",
       "      <td>430</td>\n",
       "      <td>...</td>\n",
       "      <td>62.0</td>\n",
       "      <td>8.13</td>\n",
       "      <td>64.0</td>\n",
       "      <td>0.1</td>\n",
       "      <td>631.744976</td>\n",
       "      <td>31731688.0</td>\n",
       "      <td>17.7</td>\n",
       "      <td>17.7</td>\n",
       "      <td>0.470</td>\n",
       "      <td>9.9</td>\n",
       "    </tr>\n",
       "    <tr>\n",
       "      <th>3</th>\n",
       "      <td>Afghanistan</td>\n",
       "      <td>2012</td>\n",
       "      <td>Developing</td>\n",
       "      <td>59.5</td>\n",
       "      <td>272.0</td>\n",
       "      <td>69</td>\n",
       "      <td>0.01</td>\n",
       "      <td>78.184215</td>\n",
       "      <td>67.0</td>\n",
       "      <td>2787</td>\n",
       "      <td>...</td>\n",
       "      <td>67.0</td>\n",
       "      <td>8.52</td>\n",
       "      <td>67.0</td>\n",
       "      <td>0.1</td>\n",
       "      <td>669.959000</td>\n",
       "      <td>3696958.0</td>\n",
       "      <td>17.9</td>\n",
       "      <td>18.0</td>\n",
       "      <td>0.463</td>\n",
       "      <td>9.8</td>\n",
       "    </tr>\n",
       "    <tr>\n",
       "      <th>4</th>\n",
       "      <td>Afghanistan</td>\n",
       "      <td>2011</td>\n",
       "      <td>Developing</td>\n",
       "      <td>59.2</td>\n",
       "      <td>275.0</td>\n",
       "      <td>71</td>\n",
       "      <td>0.01</td>\n",
       "      <td>7.097109</td>\n",
       "      <td>68.0</td>\n",
       "      <td>3013</td>\n",
       "      <td>...</td>\n",
       "      <td>68.0</td>\n",
       "      <td>7.87</td>\n",
       "      <td>68.0</td>\n",
       "      <td>0.1</td>\n",
       "      <td>63.537231</td>\n",
       "      <td>2978599.0</td>\n",
       "      <td>18.2</td>\n",
       "      <td>18.2</td>\n",
       "      <td>0.454</td>\n",
       "      <td>9.5</td>\n",
       "    </tr>\n",
       "  </tbody>\n",
       "</table></div>"
      ],
      "text/plain": [
       "       Country  Year      Status  Life Expectancy  Adult Mortality  \\\n",
       "0  Afghanistan  2015  Developing             65.0            263.0   \n",
       "1  Afghanistan  2014  Developing             59.9            271.0   \n",
       "2  Afghanistan  2013  Developing             59.9            268.0   \n",
       "3  Afghanistan  2012  Developing             59.5            272.0   \n",
       "4  Afghanistan  2011  Developing             59.2            275.0   \n",
       "\n",
       "   Infant Deaths  Alcohol  Percentage Expenditure  Hepatitis B  Measles  ...  \\\n",
       "0             62     0.01               71.279624         65.0     1154  ...   \n",
       "1             64     0.01               73.523582         62.0      492  ...   \n",
       "2             66     0.01               73.219243         64.0      430  ...   \n",
       "3             69     0.01               78.184215         67.0     2787  ...   \n",
       "4             71     0.01                7.097109         68.0     3013  ...   \n",
       "\n",
       "   Polio  Total Expenditure  Diphtheria  Hiv/Aids         Gdp  Population  \\\n",
       "0    6.0               8.16        65.0       0.1  584.259210  33736494.0   \n",
       "1   58.0               8.18        62.0       0.1  612.696514    327582.0   \n",
       "2   62.0               8.13        64.0       0.1  631.744976  31731688.0   \n",
       "3   67.0               8.52        67.0       0.1  669.959000   3696958.0   \n",
       "4   68.0               7.87        68.0       0.1   63.537231   2978599.0   \n",
       "\n",
       "   Thinness  1-19 Years  Thinness 5-9 Years  Income Composition Of Resources  \\\n",
       "0                  17.2                17.3                            0.479   \n",
       "1                  17.5                17.5                            0.476   \n",
       "2                  17.7                17.7                            0.470   \n",
       "3                  17.9                18.0                            0.463   \n",
       "4                  18.2                18.2                            0.454   \n",
       "\n",
       "   Schooling  \n",
       "0       10.1  \n",
       "1       10.0  \n",
       "2        9.9  \n",
       "3        9.8  \n",
       "4        9.5  \n",
       "\n",
       "[5 rows x 22 columns]"
      ]
     },
     "execution_count": 5,
     "metadata": {},
     "output_type": "execute_result"
    }
   ],
   "source": [
    "df.head()"
   ]
  },
  {
   "cell_type": "markdown",
   "id": "0a327028-aa22-4fef-8411-f1b83b4fd0cd",
   "metadata": {},
   "source": [
    "## Feature Engineering"
   ]
  },
  {
   "cell_type": "markdown",
   "id": "c5956a38-aa4f-4f83-bfb7-70420c182a99",
   "metadata": {},
   "source": [
    "Obtaining info of dataset"
   ]
  },
  {
   "cell_type": "code",
   "execution_count": 6,
   "id": "1fed12bd-37ae-4165-b77f-12a13f0bab88",
   "metadata": {},
   "outputs": [
    {
     "name": "stdout",
     "output_type": "stream",
     "text": [
      "<class 'pandas.core.frame.DataFrame'>\n",
      "RangeIndex: 2938 entries, 0 to 2937\n",
      "Data columns (total 22 columns):\n",
      " #   Column                           Non-Null Count  Dtype  \n",
      "---  ------                           --------------  -----  \n",
      " 0   Country                          2938 non-null   object \n",
      " 1   Year                             2938 non-null   int64  \n",
      " 2   Status                           2938 non-null   object \n",
      " 3   Life Expectancy                  2928 non-null   float64\n",
      " 4   Adult Mortality                  2928 non-null   float64\n",
      " 5   Infant Deaths                    2938 non-null   int64  \n",
      " 6   Alcohol                          2744 non-null   float64\n",
      " 7   Percentage Expenditure           2938 non-null   float64\n",
      " 8   Hepatitis B                      2385 non-null   float64\n",
      " 9   Measles                          2938 non-null   int64  \n",
      " 10  Bmi                              2904 non-null   float64\n",
      " 11  Under-Five Deaths                2938 non-null   int64  \n",
      " 12  Polio                            2919 non-null   float64\n",
      " 13  Total Expenditure                2712 non-null   float64\n",
      " 14  Diphtheria                       2919 non-null   float64\n",
      " 15  Hiv/Aids                         2938 non-null   float64\n",
      " 16  Gdp                              2490 non-null   float64\n",
      " 17  Population                       2286 non-null   float64\n",
      " 18  Thinness  1-19 Years             2904 non-null   float64\n",
      " 19  Thinness 5-9 Years               2904 non-null   float64\n",
      " 20  Income Composition Of Resources  2771 non-null   float64\n",
      " 21  Schooling                        2775 non-null   float64\n",
      "dtypes: float64(16), int64(4), object(2)\n",
      "memory usage: 505.1+ KB\n"
     ]
    }
   ],
   "source": [
    "df.info()"
   ]
  },
  {
   "cell_type": "code",
   "execution_count": 7,
   "id": "1a14bc4d-b4de-4017-a66b-07b10c7e1602",
   "metadata": {},
   "outputs": [
    {
     "data": {
      "text/plain": [
       "22"
      ]
     },
     "execution_count": 7,
     "metadata": {},
     "output_type": "execute_result"
    }
   ],
   "source": [
    "len(df.columns)"
   ]
  },
  {
   "cell_type": "markdown",
   "id": "096529e6-49fd-4a81-acf8-04771c760b4d",
   "metadata": {},
   "source": [
    "### Finding the Correlation"
   ]
  },
  {
   "cell_type": "code",
   "execution_count": 8,
   "id": "2c02ab7b-bb78-406f-bba4-eba0c84e66aa",
   "metadata": {},
   "outputs": [
    {
     "data": {
      "image/png": "[encoded data removed]",
      "text/plain": [
       "<Figure size 432x288 with 2 Axes>"
      ]
     },
     "metadata": {
      "needs_background": "light"
     },
     "output_type": "display_data"
    }
   ],
   "source": [
    "sns.heatmap(df.corr());"
   ]
  },
  {
   "cell_type": "markdown",
   "id": "961c5594-bcbb-4b69-b916-d995394ef667",
   "metadata": {},
   "source": [
    "Correlation of features relative to life expectancy"
   ]
  },
  {
   "cell_type": "code",
   "execution_count": 9,
   "id": "f684ab04-2a15-453f-84dd-7f7477f6149a",
   "metadata": {
    "tags": []
   },
   "outputs": [
    {
     "data": {
      "text/plain": [
       "Adult Mortality                   -0.696359\n",
       "Hiv/Aids                          -0.556556\n",
       "Thinness  1-19 Years              -0.477183\n",
       "Thinness 5-9 Years                -0.471584\n",
       "Under-Five Deaths                 -0.222529\n",
       "Infant Deaths                     -0.196557\n",
       "Measles                           -0.157586\n",
       "Population                        -0.021538\n",
       "Year                               0.170033\n",
       "Total Expenditure                  0.218086\n",
       "Hepatitis B                        0.256762\n",
       "Percentage Expenditure             0.381864\n",
       "Alcohol                            0.404877\n",
       "Gdp                                0.461455\n",
       "Polio                              0.465556\n",
       "Diphtheria                         0.479495\n",
       "Bmi                                0.567694\n",
       "Income Composition Of Resources    0.724776\n",
       "Schooling                          0.751975\n",
       "Life Expectancy                    1.000000\n",
       "Name: Life Expectancy, dtype: float64"
      ]
     },
     "execution_count": 9,
     "metadata": {},
     "output_type": "execute_result"
    }
   ],
   "source": [
    "df.corr()['Life Expectancy'].sort_values()"
   ]
  },
  {
   "cell_type": "code",
   "execution_count": 10,
   "id": "736815f4-b8df-4460-9546-54979144c3a7",
   "metadata": {},
   "outputs": [
    {
     "data": {
      "image/png": "[encoded data removed]",
      "text/plain": [
       "<Figure size 432x288 with 1 Axes>"
      ]
     },
     "metadata": {
      "needs_background": "light"
     },
     "output_type": "display_data"
    }
   ],
   "source": [
    "sns.scatterplot(data=df, x='Schooling', y='Life Expectancy');"
   ]
  },
  {
   "cell_type": "code",
   "execution_count": 11,
   "id": "d132730a-9f1e-45f9-9f11-7cfed677c4fa",
   "metadata": {},
   "outputs": [
    {
     "data": {
      "image/png": "[encoded data removed]",
      "text/plain": [
       "<Figure size 432x288 with 1 Axes>"
      ]
     },
     "metadata": {
      "needs_background": "light"
     },
     "output_type": "display_data"
    }
   ],
   "source": [
    "sns.scatterplot(data=df, x='Adult Mortality', y='Life Expectancy');"
   ]
  },
  {
   "cell_type": "code",
   "execution_count": 12,
   "id": "3d0932d0-93eb-4c6c-8135-9e612795a5d5",
   "metadata": {},
   "outputs": [
    {
     "data": {
      "image/png": "[encoded data removed]",
      "text/plain": [
       "<Figure size 812.625x360 with 2 Axes>"
      ]
     },
     "metadata": {
      "needs_background": "light"
     },
     "output_type": "display_data"
    }
   ],
   "source": [
    "sns.relplot(x=\"Adult Mortality\", y=\"Life Expectancy\", hue=\"Status\", col=\"Status\", data=df);"
   ]
  },
  {
   "cell_type": "markdown",
   "id": "df2b45cd-f2aa-4e03-b971-9194adb45134",
   "metadata": {},
   "source": [
    "### Finding %s of Nan in Each Column"
   ]
  },
  {
   "cell_type": "markdown",
   "id": "16b6d65b-eb9e-4331-84ca-eb757e63492e",
   "metadata": {},
   "source": [
    "Calculating the percentages of null values in each column"
   ]
  },
  {
   "cell_type": "code",
   "execution_count": 13,
   "id": "1e09eacd-e2f6-4523-b5d4-09001fabbeca",
   "metadata": {},
   "outputs": [],
   "source": [
    "def nan_percentage(df):\n",
    "    percent_nan = 100 * df.isnull().sum() / len(df)\n",
    "    percent_nan = percent_nan[percent_nan>0].sort_values()\n",
    "    return percent_nan"
   ]
  },
  {
   "cell_type": "code",
   "execution_count": 14,
   "id": "e1e85bc2-8f47-4285-8bd4-d32fe9ce2f11",
   "metadata": {},
   "outputs": [],
   "source": [
    "missing_data = nan_percentage(df)"
   ]
  },
  {
   "cell_type": "code",
   "execution_count": 15,
   "id": "e7700433-a8b6-41f8-b8c7-2739b8b3ff1f",
   "metadata": {},
   "outputs": [
    {
     "data": {
      "text/plain": [
       "Life Expectancy                     0.340368\n",
       "Adult Mortality                     0.340368\n",
       "Polio                               0.646698\n",
       "Diphtheria                          0.646698\n",
       "Bmi                                 1.157250\n",
       "Thinness  1-19 Years                1.157250\n",
       "Thinness 5-9 Years                  1.157250\n",
       "Schooling                           5.547992\n",
       "Income Composition Of Resources     5.684139\n",
       "Alcohol                             6.603131\n",
       "Total Expenditure                   7.692308\n",
       "Gdp                                15.248468\n",
       "Hepatitis B                        18.822328\n",
       "Population                         22.191967\n",
       "dtype: float64"
      ]
     },
     "execution_count": 15,
     "metadata": {},
     "output_type": "execute_result"
    }
   ],
   "source": [
    "missing_data"
   ]
  },
  {
   "cell_type": "code",
   "execution_count": 16,
   "id": "b2cb747b-572e-4aa0-a2a8-bcc7cfddada2",
   "metadata": {},
   "outputs": [
    {
     "data": {
      "image/png": "[encoded data removed]",
      "text/plain": [
       "<Figure size 432x288 with 1 Axes>"
      ]
     },
     "metadata": {
      "needs_background": "light"
     },
     "output_type": "display_data"
    }
   ],
   "source": [
    "sns.barplot(x=missing_data.index,y=missing_data)\n",
    "plt.xticks(rotation=90);"
   ]
  },
  {
   "cell_type": "markdown",
   "id": "22063664-92d6-4126-a9f3-9e55290d509e",
   "metadata": {},
   "source": [
    "### Drop Feature Columns"
   ]
  },
  {
   "cell_type": "markdown",
   "id": "b975a104-d8c0-4988-9299-6a6a6b54b632",
   "metadata": {},
   "source": [
    "Selecting features needed for the linear regression model"
   ]
  },
  {
   "cell_type": "code",
   "execution_count": 17,
   "id": "4000acb9-fa47-42f2-97b1-ae461c19903f",
   "metadata": {},
   "outputs": [],
   "source": [
    "df = df[['Country', 'Year', 'Status', 'Life Expectancy', 'Adult Mortality',\n",
    "       'Infant Deaths', 'Alcohol', 'Percentage Expenditure',\n",
    "       'Measles', 'Bmi', 'Under-Five Deaths', 'Polio', 'Total Expenditure',\n",
    "       'Diphtheria', 'Hiv/Aids', 'Thinness  1-19 Years',\n",
    "       'Thinness 5-9 Years', 'Income Composition Of Resources', 'Schooling']]"
   ]
  },
  {
   "cell_type": "code",
   "execution_count": 18,
   "id": "2da8345b-dc1a-4d6c-bc5d-120b66d0f104",
   "metadata": {},
   "outputs": [
    {
     "name": "stdout",
     "output_type": "stream",
     "text": [
      "<class 'pandas.core.frame.DataFrame'>\n",
      "RangeIndex: 2938 entries, 0 to 2937\n",
      "Data columns (total 19 columns):\n",
      " #   Column                           Non-Null Count  Dtype  \n",
      "---  ------                           --------------  -----  \n",
      " 0   Country                          2938 non-null   object \n",
      " 1   Year                             2938 non-null   int64  \n",
      " 2   Status                           2938 non-null   object \n",
      " 3   Life Expectancy                  2928 non-null   float64\n",
      " 4   Adult Mortality                  2928 non-null   float64\n",
      " 5   Infant Deaths                    2938 non-null   int64  \n",
      " 6   Alcohol                          2744 non-null   float64\n",
      " 7   Percentage Expenditure           2938 non-null   float64\n",
      " 8   Measles                          2938 non-null   int64  \n",
      " 9   Bmi                              2904 non-null   float64\n",
      " 10  Under-Five Deaths                2938 non-null   int64  \n",
      " 11  Polio                            2919 non-null   float64\n",
      " 12  Total Expenditure                2712 non-null   float64\n",
      " 13  Diphtheria                       2919 non-null   float64\n",
      " 14  Hiv/Aids                         2938 non-null   float64\n",
      " 15  Thinness  1-19 Years             2904 non-null   float64\n",
      " 16  Thinness 5-9 Years               2904 non-null   float64\n",
      " 17  Income Composition Of Resources  2771 non-null   float64\n",
      " 18  Schooling                        2775 non-null   float64\n",
      "dtypes: float64(13), int64(4), object(2)\n",
      "memory usage: 436.2+ KB\n"
     ]
    }
   ],
   "source": [
    "df.info()"
   ]
  },
  {
   "cell_type": "markdown",
   "id": "ea65f000-c5db-46a3-9660-5065f72f81a2",
   "metadata": {},
   "source": [
    "### Removing Rows With Nan in the Life Expectancy Column"
   ]
  },
  {
   "cell_type": "code",
   "execution_count": 19,
   "id": "8225df4e-c398-4609-8174-8ee68ac8cb32",
   "metadata": {},
   "outputs": [
    {
     "data": {
      "text/html": [
       "<div><div id=b4987f57-1461-4762-bdf7-bc1cdff9c0e6 style=\"display:none; background-color:#9D6CFF; color:white; width:200px; height:30px; padding-left:5px; border-radius:4px; flex-direction:row; justify-content:space-around; align-items:center;\" onmouseover=\"this.style.backgroundColor='#BA9BF8'\" onmouseout=\"this.style.backgroundColor='#9D6CFF'\" onclick=\"window.commands?.execute('create-mitosheet-from-dataframe-output');\">See Full Dataframe in Mito</div> <script> if (window.commands?.hasCommand('create-mitosheet-from-dataframe-output')) document.getElementById('b4987f57-1461-4762-bdf7-bc1cdff9c0e6').style.display = 'flex' </script> <table border=\"1\" class=\"dataframe\">\n",
       "  <thead>\n",
       "    <tr style=\"text-align: right;\">\n",
       "      <th></th>\n",
       "      <th>Country</th>\n",
       "      <th>Year</th>\n",
       "      <th>Status</th>\n",
       "      <th>Life Expectancy</th>\n",
       "      <th>Adult Mortality</th>\n",
       "      <th>Infant Deaths</th>\n",
       "      <th>Alcohol</th>\n",
       "      <th>Percentage Expenditure</th>\n",
       "      <th>Measles</th>\n",
       "      <th>Bmi</th>\n",
       "      <th>Under-Five Deaths</th>\n",
       "      <th>Polio</th>\n",
       "      <th>Total Expenditure</th>\n",
       "      <th>Diphtheria</th>\n",
       "      <th>Hiv/Aids</th>\n",
       "      <th>Thinness  1-19 Years</th>\n",
       "      <th>Thinness 5-9 Years</th>\n",
       "      <th>Income Composition Of Resources</th>\n",
       "      <th>Schooling</th>\n",
       "    </tr>\n",
       "  </thead>\n",
       "  <tbody>\n",
       "    <tr>\n",
       "      <th>624</th>\n",
       "      <td>Cook Islands</td>\n",
       "      <td>2013</td>\n",
       "      <td>Developing</td>\n",
       "      <td>NaN</td>\n",
       "      <td>NaN</td>\n",
       "      <td>0</td>\n",
       "      <td>0.01</td>\n",
       "      <td>0.000000</td>\n",
       "      <td>0</td>\n",
       "      <td>82.8</td>\n",
       "      <td>0</td>\n",
       "      <td>98.0</td>\n",
       "      <td>3.58</td>\n",
       "      <td>98.0</td>\n",
       "      <td>0.1</td>\n",
       "      <td>0.1</td>\n",
       "      <td>0.1</td>\n",
       "      <td>NaN</td>\n",
       "      <td>NaN</td>\n",
       "    </tr>\n",
       "    <tr>\n",
       "      <th>769</th>\n",
       "      <td>Dominica</td>\n",
       "      <td>2013</td>\n",
       "      <td>Developing</td>\n",
       "      <td>NaN</td>\n",
       "      <td>NaN</td>\n",
       "      <td>0</td>\n",
       "      <td>0.01</td>\n",
       "      <td>11.419555</td>\n",
       "      <td>0</td>\n",
       "      <td>58.4</td>\n",
       "      <td>0</td>\n",
       "      <td>96.0</td>\n",
       "      <td>5.58</td>\n",
       "      <td>96.0</td>\n",
       "      <td>0.1</td>\n",
       "      <td>2.7</td>\n",
       "      <td>2.6</td>\n",
       "      <td>0.721</td>\n",
       "      <td>12.7</td>\n",
       "    </tr>\n",
       "    <tr>\n",
       "      <th>1650</th>\n",
       "      <td>Marshall Islands</td>\n",
       "      <td>2013</td>\n",
       "      <td>Developing</td>\n",
       "      <td>NaN</td>\n",
       "      <td>NaN</td>\n",
       "      <td>0</td>\n",
       "      <td>0.01</td>\n",
       "      <td>871.878317</td>\n",
       "      <td>0</td>\n",
       "      <td>81.6</td>\n",
       "      <td>0</td>\n",
       "      <td>79.0</td>\n",
       "      <td>17.24</td>\n",
       "      <td>79.0</td>\n",
       "      <td>0.1</td>\n",
       "      <td>0.1</td>\n",
       "      <td>0.1</td>\n",
       "      <td>NaN</td>\n",
       "      <td>0.0</td>\n",
       "    </tr>\n",
       "    <tr>\n",
       "      <th>1715</th>\n",
       "      <td>Monaco</td>\n",
       "      <td>2013</td>\n",
       "      <td>Developing</td>\n",
       "      <td>NaN</td>\n",
       "      <td>NaN</td>\n",
       "      <td>0</td>\n",
       "      <td>0.01</td>\n",
       "      <td>0.000000</td>\n",
       "      <td>0</td>\n",
       "      <td>NaN</td>\n",
       "      <td>0</td>\n",
       "      <td>99.0</td>\n",
       "      <td>4.30</td>\n",
       "      <td>99.0</td>\n",
       "      <td>0.1</td>\n",
       "      <td>NaN</td>\n",
       "      <td>NaN</td>\n",
       "      <td>NaN</td>\n",
       "      <td>NaN</td>\n",
       "    </tr>\n",
       "    <tr>\n",
       "      <th>1812</th>\n",
       "      <td>Nauru</td>\n",
       "      <td>2013</td>\n",
       "      <td>Developing</td>\n",
       "      <td>NaN</td>\n",
       "      <td>NaN</td>\n",
       "      <td>0</td>\n",
       "      <td>0.01</td>\n",
       "      <td>15.606596</td>\n",
       "      <td>0</td>\n",
       "      <td>87.3</td>\n",
       "      <td>0</td>\n",
       "      <td>87.0</td>\n",
       "      <td>4.65</td>\n",
       "      <td>87.0</td>\n",
       "      <td>0.1</td>\n",
       "      <td>0.1</td>\n",
       "      <td>0.1</td>\n",
       "      <td>NaN</td>\n",
       "      <td>9.6</td>\n",
       "    </tr>\n",
       "    <tr>\n",
       "      <th>1909</th>\n",
       "      <td>Niue</td>\n",
       "      <td>2013</td>\n",
       "      <td>Developing</td>\n",
       "      <td>NaN</td>\n",
       "      <td>NaN</td>\n",
       "      <td>0</td>\n",
       "      <td>0.01</td>\n",
       "      <td>0.000000</td>\n",
       "      <td>0</td>\n",
       "      <td>77.3</td>\n",
       "      <td>0</td>\n",
       "      <td>99.0</td>\n",
       "      <td>7.20</td>\n",
       "      <td>99.0</td>\n",
       "      <td>0.1</td>\n",
       "      <td>0.1</td>\n",
       "      <td>0.1</td>\n",
       "      <td>NaN</td>\n",
       "      <td>NaN</td>\n",
       "    </tr>\n",
       "    <tr>\n",
       "      <th>1958</th>\n",
       "      <td>Palau</td>\n",
       "      <td>2013</td>\n",
       "      <td>Developing</td>\n",
       "      <td>NaN</td>\n",
       "      <td>NaN</td>\n",
       "      <td>0</td>\n",
       "      <td>NaN</td>\n",
       "      <td>344.690631</td>\n",
       "      <td>0</td>\n",
       "      <td>83.3</td>\n",
       "      <td>0</td>\n",
       "      <td>99.0</td>\n",
       "      <td>9.27</td>\n",
       "      <td>99.0</td>\n",
       "      <td>0.1</td>\n",
       "      <td>0.1</td>\n",
       "      <td>0.1</td>\n",
       "      <td>0.779</td>\n",
       "      <td>14.2</td>\n",
       "    </tr>\n",
       "    <tr>\n",
       "      <th>2167</th>\n",
       "      <td>Saint Kitts and Nevis</td>\n",
       "      <td>2013</td>\n",
       "      <td>Developing</td>\n",
       "      <td>NaN</td>\n",
       "      <td>NaN</td>\n",
       "      <td>0</td>\n",
       "      <td>8.54</td>\n",
       "      <td>0.000000</td>\n",
       "      <td>0</td>\n",
       "      <td>5.2</td>\n",
       "      <td>0</td>\n",
       "      <td>96.0</td>\n",
       "      <td>6.14</td>\n",
       "      <td>96.0</td>\n",
       "      <td>0.1</td>\n",
       "      <td>3.7</td>\n",
       "      <td>3.6</td>\n",
       "      <td>0.749</td>\n",
       "      <td>13.4</td>\n",
       "    </tr>\n",
       "    <tr>\n",
       "      <th>2216</th>\n",
       "      <td>San Marino</td>\n",
       "      <td>2013</td>\n",
       "      <td>Developing</td>\n",
       "      <td>NaN</td>\n",
       "      <td>NaN</td>\n",
       "      <td>0</td>\n",
       "      <td>0.01</td>\n",
       "      <td>0.000000</td>\n",
       "      <td>0</td>\n",
       "      <td>NaN</td>\n",
       "      <td>0</td>\n",
       "      <td>69.0</td>\n",
       "      <td>6.50</td>\n",
       "      <td>69.0</td>\n",
       "      <td>0.1</td>\n",
       "      <td>NaN</td>\n",
       "      <td>NaN</td>\n",
       "      <td>NaN</td>\n",
       "      <td>15.1</td>\n",
       "    </tr>\n",
       "    <tr>\n",
       "      <th>2713</th>\n",
       "      <td>Tuvalu</td>\n",
       "      <td>2013</td>\n",
       "      <td>Developing</td>\n",
       "      <td>NaN</td>\n",
       "      <td>NaN</td>\n",
       "      <td>0</td>\n",
       "      <td>0.01</td>\n",
       "      <td>78.281203</td>\n",
       "      <td>0</td>\n",
       "      <td>79.3</td>\n",
       "      <td>0</td>\n",
       "      <td>9.0</td>\n",
       "      <td>16.61</td>\n",
       "      <td>9.0</td>\n",
       "      <td>0.1</td>\n",
       "      <td>0.2</td>\n",
       "      <td>0.1</td>\n",
       "      <td>NaN</td>\n",
       "      <td>0.0</td>\n",
       "    </tr>\n",
       "  </tbody>\n",
       "</table></div>"
      ],
      "text/plain": [
       "                    Country  Year      Status  Life Expectancy  \\\n",
       "624            Cook Islands  2013  Developing              NaN   \n",
       "769                Dominica  2013  Developing              NaN   \n",
       "1650       Marshall Islands  2013  Developing              NaN   \n",
       "1715                 Monaco  2013  Developing              NaN   \n",
       "1812                  Nauru  2013  Developing              NaN   \n",
       "1909                   Niue  2013  Developing              NaN   \n",
       "1958                  Palau  2013  Developing              NaN   \n",
       "2167  Saint Kitts and Nevis  2013  Developing              NaN   \n",
       "2216             San Marino  2013  Developing              NaN   \n",
       "2713                 Tuvalu  2013  Developing              NaN   \n",
       "\n",
       "      Adult Mortality  Infant Deaths  Alcohol  Percentage Expenditure  \\\n",
       "624               NaN              0     0.01                0.000000   \n",
       "769               NaN              0     0.01               11.419555   \n",
       "1650              NaN              0     0.01              871.878317   \n",
       "1715              NaN              0     0.01                0.000000   \n",
       "1812              NaN              0     0.01               15.606596   \n",
       "1909              NaN              0     0.01                0.000000   \n",
       "1958              NaN              0      NaN              344.690631   \n",
       "2167              NaN              0     8.54                0.000000   \n",
       "2216              NaN              0     0.01                0.000000   \n",
       "2713              NaN              0     0.01               78.281203   \n",
       "\n",
       "      Measles   Bmi  Under-Five Deaths  Polio  Total Expenditure  Diphtheria  \\\n",
       "624         0  82.8                  0   98.0               3.58        98.0   \n",
       "769         0  58.4                  0   96.0               5.58        96.0   \n",
       "1650        0  81.6                  0   79.0              17.24        79.0   \n",
       "1715        0   NaN                  0   99.0               4.30        99.0   \n",
       "1812        0  87.3                  0   87.0               4.65        87.0   \n",
       "1909        0  77.3                  0   99.0               7.20        99.0   \n",
       "1958        0  83.3                  0   99.0               9.27        99.0   \n",
       "2167        0   5.2                  0   96.0               6.14        96.0   \n",
       "2216        0   NaN                  0   69.0               6.50        69.0   \n",
       "2713        0  79.3                  0    9.0              16.61         9.0   \n",
       "\n",
       "      Hiv/Aids  Thinness  1-19 Years  Thinness 5-9 Years  \\\n",
       "624        0.1                   0.1                 0.1   \n",
       "769        0.1                   2.7                 2.6   \n",
       "1650       0.1                   0.1                 0.1   \n",
       "1715       0.1                   NaN                 NaN   \n",
       "1812       0.1                   0.1                 0.1   \n",
       "1909       0.1                   0.1                 0.1   \n",
       "1958       0.1                   0.1                 0.1   \n",
       "2167       0.1                   3.7                 3.6   \n",
       "2216       0.1                   NaN                 NaN   \n",
       "2713       0.1                   0.2                 0.1   \n",
       "\n",
       "      Income Composition Of Resources  Schooling  \n",
       "624                               NaN        NaN  \n",
       "769                             0.721       12.7  \n",
       "1650                              NaN        0.0  \n",
       "1715                              NaN        NaN  \n",
       "1812                              NaN        9.6  \n",
       "1909                              NaN        NaN  \n",
       "1958                            0.779       14.2  \n",
       "2167                            0.749       13.4  \n",
       "2216                              NaN       15.1  \n",
       "2713                              NaN        0.0  "
      ]
     },
     "execution_count": 19,
     "metadata": {},
     "output_type": "execute_result"
    }
   ],
   "source": [
    "df[df['Life Expectancy'].isnull()]"
   ]
  },
  {
   "cell_type": "code",
   "execution_count": 20,
   "id": "432cd904-8212-40de-a782-e7a305d40634",
   "metadata": {},
   "outputs": [],
   "source": [
    "df = df.dropna(subset=['Life Expectancy'])"
   ]
  },
  {
   "cell_type": "code",
   "execution_count": 21,
   "id": "70a0831f-135e-48ac-bc86-03cb83893f14",
   "metadata": {},
   "outputs": [
    {
     "data": {
      "text/plain": [
       "Polio                              0.648907\n",
       "Diphtheria                         0.648907\n",
       "Bmi                                1.092896\n",
       "Thinness  1-19 Years               1.092896\n",
       "Thinness 5-9 Years                 1.092896\n",
       "Income Composition Of Resources    5.464481\n",
       "Schooling                          5.464481\n",
       "Alcohol                            6.591530\n",
       "Total Expenditure                  7.718579\n",
       "dtype: float64"
      ]
     },
     "execution_count": 21,
     "metadata": {},
     "output_type": "execute_result"
    }
   ],
   "source": [
    "missing_data_one = nan_percentage(df)\n",
    "missing_data_one"
   ]
  },
  {
   "cell_type": "markdown",
   "id": "714f8004-7b72-43b8-bbd4-5eee94a77b61",
   "metadata": {},
   "source": [
    "### Removing Rows With Nan in Certain Features"
   ]
  },
  {
   "cell_type": "code",
   "execution_count": 22,
   "id": "7d8db156-660d-4d90-ac17-7640f151e239",
   "metadata": {},
   "outputs": [
    {
     "data": {
      "text/html": [
       "<div><div id=2fa17a2c-2c15-423c-b96e-0aeb5423cb29 style=\"display:none; background-color:#9D6CFF; color:white; width:200px; height:30px; padding-left:5px; border-radius:4px; flex-direction:row; justify-content:space-around; align-items:center;\" onmouseover=\"this.style.backgroundColor='#BA9BF8'\" onmouseout=\"this.style.backgroundColor='#9D6CFF'\" onclick=\"window.commands?.execute('create-mitosheet-from-dataframe-output');\">See Full Dataframe in Mito</div> <script> if (window.commands?.hasCommand('create-mitosheet-from-dataframe-output')) document.getElementById('2fa17a2c-2c15-423c-b96e-0aeb5423cb29').style.display = 'flex' </script> <table border=\"1\" class=\"dataframe\">\n",
       "  <thead>\n",
       "    <tr style=\"text-align: right;\">\n",
       "      <th></th>\n",
       "      <th>Country</th>\n",
       "      <th>Year</th>\n",
       "      <th>Status</th>\n",
       "      <th>Life Expectancy</th>\n",
       "      <th>Adult Mortality</th>\n",
       "      <th>Infant Deaths</th>\n",
       "      <th>Alcohol</th>\n",
       "      <th>Percentage Expenditure</th>\n",
       "      <th>Measles</th>\n",
       "      <th>Bmi</th>\n",
       "      <th>Under-Five Deaths</th>\n",
       "      <th>Polio</th>\n",
       "      <th>Total Expenditure</th>\n",
       "      <th>Diphtheria</th>\n",
       "      <th>Hiv/Aids</th>\n",
       "      <th>Thinness  1-19 Years</th>\n",
       "      <th>Thinness 5-9 Years</th>\n",
       "      <th>Income Composition Of Resources</th>\n",
       "      <th>Schooling</th>\n",
       "    </tr>\n",
       "  </thead>\n",
       "  <tbody>\n",
       "    <tr>\n",
       "      <th>432</th>\n",
       "      <td>Côte d'Ivoire</td>\n",
       "      <td>2015</td>\n",
       "      <td>Developing</td>\n",
       "      <td>53.3</td>\n",
       "      <td>397.0</td>\n",
       "      <td>57</td>\n",
       "      <td>NaN</td>\n",
       "      <td>0.0</td>\n",
       "      <td>65</td>\n",
       "      <td>28.0</td>\n",
       "      <td>79</td>\n",
       "      <td>81.0</td>\n",
       "      <td>NaN</td>\n",
       "      <td>83.0</td>\n",
       "      <td>1.9</td>\n",
       "      <td>5.5</td>\n",
       "      <td>5.5</td>\n",
       "      <td>NaN</td>\n",
       "      <td>NaN</td>\n",
       "    </tr>\n",
       "    <tr>\n",
       "      <th>433</th>\n",
       "      <td>Côte d'Ivoire</td>\n",
       "      <td>2014</td>\n",
       "      <td>Developing</td>\n",
       "      <td>52.8</td>\n",
       "      <td>47.0</td>\n",
       "      <td>58</td>\n",
       "      <td>0.01</td>\n",
       "      <td>0.0</td>\n",
       "      <td>50</td>\n",
       "      <td>27.4</td>\n",
       "      <td>80</td>\n",
       "      <td>76.0</td>\n",
       "      <td>5.72</td>\n",
       "      <td>76.0</td>\n",
       "      <td>2.0</td>\n",
       "      <td>5.6</td>\n",
       "      <td>5.6</td>\n",
       "      <td>NaN</td>\n",
       "      <td>NaN</td>\n",
       "    </tr>\n",
       "    <tr>\n",
       "      <th>434</th>\n",
       "      <td>Côte d'Ivoire</td>\n",
       "      <td>2013</td>\n",
       "      <td>Developing</td>\n",
       "      <td>52.3</td>\n",
       "      <td>412.0</td>\n",
       "      <td>59</td>\n",
       "      <td>3.15</td>\n",
       "      <td>0.0</td>\n",
       "      <td>48</td>\n",
       "      <td>26.8</td>\n",
       "      <td>81</td>\n",
       "      <td>79.0</td>\n",
       "      <td>5.81</td>\n",
       "      <td>8.0</td>\n",
       "      <td>2.4</td>\n",
       "      <td>5.8</td>\n",
       "      <td>5.7</td>\n",
       "      <td>NaN</td>\n",
       "      <td>NaN</td>\n",
       "    </tr>\n",
       "    <tr>\n",
       "      <th>435</th>\n",
       "      <td>Côte d'Ivoire</td>\n",
       "      <td>2012</td>\n",
       "      <td>Developing</td>\n",
       "      <td>52.0</td>\n",
       "      <td>415.0</td>\n",
       "      <td>59</td>\n",
       "      <td>3.24</td>\n",
       "      <td>0.0</td>\n",
       "      <td>137</td>\n",
       "      <td>26.2</td>\n",
       "      <td>82</td>\n",
       "      <td>83.0</td>\n",
       "      <td>6.14</td>\n",
       "      <td>82.0</td>\n",
       "      <td>2.9</td>\n",
       "      <td>5.9</td>\n",
       "      <td>5.9</td>\n",
       "      <td>NaN</td>\n",
       "      <td>NaN</td>\n",
       "    </tr>\n",
       "    <tr>\n",
       "      <th>436</th>\n",
       "      <td>Côte d'Ivoire</td>\n",
       "      <td>2011</td>\n",
       "      <td>Developing</td>\n",
       "      <td>51.7</td>\n",
       "      <td>419.0</td>\n",
       "      <td>60</td>\n",
       "      <td>3.13</td>\n",
       "      <td>0.0</td>\n",
       "      <td>628</td>\n",
       "      <td>25.6</td>\n",
       "      <td>83</td>\n",
       "      <td>58.0</td>\n",
       "      <td>6.42</td>\n",
       "      <td>62.0</td>\n",
       "      <td>3.3</td>\n",
       "      <td>6.1</td>\n",
       "      <td>6.0</td>\n",
       "      <td>NaN</td>\n",
       "      <td>NaN</td>\n",
       "    </tr>\n",
       "  </tbody>\n",
       "</table></div>"
      ],
      "text/plain": [
       "           Country  Year      Status  Life Expectancy  Adult Mortality  \\\n",
       "432  Côte d'Ivoire  2015  Developing             53.3            397.0   \n",
       "433  Côte d'Ivoire  2014  Developing             52.8             47.0   \n",
       "434  Côte d'Ivoire  2013  Developing             52.3            412.0   \n",
       "435  Côte d'Ivoire  2012  Developing             52.0            415.0   \n",
       "436  Côte d'Ivoire  2011  Developing             51.7            419.0   \n",
       "\n",
       "     Infant Deaths  Alcohol  Percentage Expenditure  Measles   Bmi  \\\n",
       "432             57      NaN                     0.0       65  28.0   \n",
       "433             58     0.01                     0.0       50  27.4   \n",
       "434             59     3.15                     0.0       48  26.8   \n",
       "435             59     3.24                     0.0      137  26.2   \n",
       "436             60     3.13                     0.0      628  25.6   \n",
       "\n",
       "     Under-Five Deaths  Polio  Total Expenditure  Diphtheria  Hiv/Aids  \\\n",
       "432                 79   81.0                NaN        83.0       1.9   \n",
       "433                 80   76.0               5.72        76.0       2.0   \n",
       "434                 81   79.0               5.81         8.0       2.4   \n",
       "435                 82   83.0               6.14        82.0       2.9   \n",
       "436                 83   58.0               6.42        62.0       3.3   \n",
       "\n",
       "     Thinness  1-19 Years  Thinness 5-9 Years  \\\n",
       "432                   5.5                 5.5   \n",
       "433                   5.6                 5.6   \n",
       "434                   5.8                 5.7   \n",
       "435                   5.9                 5.9   \n",
       "436                   6.1                 6.0   \n",
       "\n",
       "     Income Composition Of Resources  Schooling  \n",
       "432                              NaN        NaN  \n",
       "433                              NaN        NaN  \n",
       "434                              NaN        NaN  \n",
       "435                              NaN        NaN  \n",
       "436                              NaN        NaN  "
      ]
     },
     "execution_count": 22,
     "metadata": {},
     "output_type": "execute_result"
    }
   ],
   "source": [
    "ivory_coast = df[df['Country'] == \"Côte d'Ivoire\"]\n",
    "ivory_coast.head()"
   ]
  },
  {
   "cell_type": "markdown",
   "id": "9051eab6-81d1-43ee-b701-ce4c617bd357",
   "metadata": {},
   "source": [
    "I realised that Côte d'Ivoire has missing data for income composition of resources and schooling. Looking though the dataset thoroughly, I found out that countries like South Sudan and Czechia has no data for income composition of resources and schooling (or for other features). I have decided to drop 12 countries with a high number of incomplete data from the datasets."
   ]
  },
  {
   "cell_type": "code",
   "execution_count": 23,
   "id": "f3ab3ccf-26e7-49d1-b847-593200f89e24",
   "metadata": {},
   "outputs": [],
   "source": [
    "df = df[df['Country'] != \"Côte d'Ivoire\"]\n",
    "df = df[df['Country'] != \"South Sudan\"]\n",
    "df = df[df['Country'] != \"Czechia\"]\n",
    "df = df[df['Country'] != \"Democratic People's Republic of Korea\"]\n",
    "df = df[df['Country'] != \"Democratic Republic of the Congo\"]\n",
    "df = df[df['Country'] != \"Republic of Korea\"]\n",
    "df = df[df['Country'] != \"Republic of Moldova\"]\n",
    "df = df[df['Country'] != \"Somalia\"]\n",
    "df = df[df['Country'] != \"Sudan\"]\n",
    "df = df[df['Country'] != \"United Kingdom of Great Britain and Northern Ireland\"]\n",
    "df = df[df['Country'] != \"United Republic of Tanzania\"]\n",
    "df = df[df['Country'] != \"United States of America\"]"
   ]
  },
  {
   "cell_type": "code",
   "execution_count": 24,
   "id": "dff7febd-bc7c-4a06-8454-cf38c7e291f9",
   "metadata": {},
   "outputs": [
    {
     "data": {
      "text/plain": [
       "2736"
      ]
     },
     "execution_count": 24,
     "metadata": {},
     "output_type": "execute_result"
    }
   ],
   "source": [
    "len(df)"
   ]
  },
  {
   "cell_type": "markdown",
   "id": "a8c3022c-cdd8-4f7a-abf3-202a50789a10",
   "metadata": {},
   "source": [
    "nan_polio is the mean of the Polio data of each country (excluding null values)."
   ]
  },
  {
   "cell_type": "code",
   "execution_count": 25,
   "id": "6c2acfb5-86f0-4e3f-82f7-2babf54f9f32",
   "metadata": {},
   "outputs": [
    {
     "data": {
      "text/html": [
       "<div><div id=b38cdd16-6ce2-456f-a404-c34aaf5e2d94 style=\"display:none; background-color:#9D6CFF; color:white; width:200px; height:30px; padding-left:5px; border-radius:4px; flex-direction:row; justify-content:space-around; align-items:center;\" onmouseover=\"this.style.backgroundColor='#BA9BF8'\" onmouseout=\"this.style.backgroundColor='#9D6CFF'\" onclick=\"window.commands?.execute('create-mitosheet-from-dataframe-output');\">See Full Dataframe in Mito</div> <script> if (window.commands?.hasCommand('create-mitosheet-from-dataframe-output')) document.getElementById('b38cdd16-6ce2-456f-a404-c34aaf5e2d94').style.display = 'flex' </script> <table border=\"1\" class=\"dataframe\">\n",
       "  <thead>\n",
       "    <tr style=\"text-align: right;\">\n",
       "      <th></th>\n",
       "      <th>Polio</th>\n",
       "    </tr>\n",
       "    <tr>\n",
       "      <th>Country</th>\n",
       "      <th></th>\n",
       "    </tr>\n",
       "  </thead>\n",
       "  <tbody>\n",
       "    <tr>\n",
       "      <th>Afghanistan</th>\n",
       "      <td>48.3750</td>\n",
       "    </tr>\n",
       "    <tr>\n",
       "      <th>Albania</th>\n",
       "      <td>98.1250</td>\n",
       "    </tr>\n",
       "    <tr>\n",
       "      <th>Algeria</th>\n",
       "      <td>91.7500</td>\n",
       "    </tr>\n",
       "    <tr>\n",
       "      <th>Angola</th>\n",
       "      <td>46.1250</td>\n",
       "    </tr>\n",
       "    <tr>\n",
       "      <th>Antigua and Barbuda</th>\n",
       "      <td>96.9375</td>\n",
       "    </tr>\n",
       "  </tbody>\n",
       "</table></div>"
      ],
      "text/plain": [
       "                       Polio\n",
       "Country                     \n",
       "Afghanistan          48.3750\n",
       "Albania              98.1250\n",
       "Algeria              91.7500\n",
       "Angola               46.1250\n",
       "Antigua and Barbuda  96.9375"
      ]
     },
     "execution_count": 25,
     "metadata": {},
     "output_type": "execute_result"
    }
   ],
   "source": [
    "nan_polio = df[~df['Polio'].isnull()][['Country', 'Polio']]\n",
    "nan_polio = nan_polio.groupby(by='Country').mean()\n",
    "nan_polio.head()"
   ]
  },
  {
   "cell_type": "markdown",
   "id": "71e334ff-e36b-438f-92ac-d597f4c2b1f8",
   "metadata": {},
   "source": [
    "The following dataframes groupby the mean of each feature by country (excluding null values). For example: nan_bmi groupbys the mean of Bmi by country."
   ]
  },
  {
   "cell_type": "code",
   "execution_count": 26,
   "id": "fb9b1be9-4a49-4d78-9962-aebc45eb3eca",
   "metadata": {},
   "outputs": [],
   "source": [
    "nan_diphtheria = df[~df['Diphtheria'].isnull()][['Country', 'Diphtheria']]\n",
    "nan_diphtheria = nan_diphtheria.groupby(by='Country').mean()\n",
    "\n",
    "nan_bmi = df[~df['Bmi'].isnull()][['Country', 'Bmi']]\n",
    "nan_bmi = nan_bmi.groupby(by='Country').mean()\n",
    "\n",
    "nan_income = df[~df['Income Composition Of Resources'].isnull()][['Country', 'Income Composition Of Resources']]\n",
    "nan_income = nan_income.groupby(by='Country').mean()\n",
    "\n",
    "nan_schooling = df[~df['Schooling'].isnull()][['Country', 'Schooling']]\n",
    "nan_schooling = nan_schooling.groupby(by='Country').mean()\n",
    "\n",
    "nan_alcohol = df[~df['Alcohol'].isnull()][['Country', 'Alcohol']]\n",
    "nan_alcohol = nan_alcohol.groupby(by='Country').mean()\n",
    "\n",
    "nan_expenditure = df[~df['Total Expenditure'].isnull()][['Country', 'Total Expenditure']]\n",
    "nan_expenditure = nan_expenditure.groupby(by='Country').mean()"
   ]
  },
  {
   "cell_type": "markdown",
   "id": "35168bcc-6506-48da-a693-80768132e5c4",
   "metadata": {},
   "source": [
    "nan_check checks which values in the dataframe are null."
   ]
  },
  {
   "cell_type": "code",
   "execution_count": 27,
   "id": "b95e6c9a-791b-4042-9953-7d42fd87498d",
   "metadata": {},
   "outputs": [
    {
     "data": {
      "text/html": [
       "<div><div id=c4656783-55cc-4b72-ae4f-9435c88e95d1 style=\"display:none; background-color:#9D6CFF; color:white; width:200px; height:30px; padding-left:5px; border-radius:4px; flex-direction:row; justify-content:space-around; align-items:center;\" onmouseover=\"this.style.backgroundColor='#BA9BF8'\" onmouseout=\"this.style.backgroundColor='#9D6CFF'\" onclick=\"window.commands?.execute('create-mitosheet-from-dataframe-output');\">See Full Dataframe in Mito</div> <script> if (window.commands?.hasCommand('create-mitosheet-from-dataframe-output')) document.getElementById('c4656783-55cc-4b72-ae4f-9435c88e95d1').style.display = 'flex' </script> <table border=\"1\" class=\"dataframe\">\n",
       "  <thead>\n",
       "    <tr style=\"text-align: right;\">\n",
       "      <th></th>\n",
       "      <th>Country</th>\n",
       "      <th>Year</th>\n",
       "      <th>Status</th>\n",
       "      <th>Life Expectancy</th>\n",
       "      <th>Adult Mortality</th>\n",
       "      <th>Infant Deaths</th>\n",
       "      <th>Alcohol</th>\n",
       "      <th>Percentage Expenditure</th>\n",
       "      <th>Measles</th>\n",
       "      <th>Bmi</th>\n",
       "      <th>Under-Five Deaths</th>\n",
       "      <th>Polio</th>\n",
       "      <th>Total Expenditure</th>\n",
       "      <th>Diphtheria</th>\n",
       "      <th>Hiv/Aids</th>\n",
       "      <th>Thinness  1-19 Years</th>\n",
       "      <th>Thinness 5-9 Years</th>\n",
       "      <th>Income Composition Of Resources</th>\n",
       "      <th>Schooling</th>\n",
       "    </tr>\n",
       "  </thead>\n",
       "  <tbody>\n",
       "    <tr>\n",
       "      <th>0</th>\n",
       "      <td>False</td>\n",
       "      <td>False</td>\n",
       "      <td>False</td>\n",
       "      <td>False</td>\n",
       "      <td>False</td>\n",
       "      <td>False</td>\n",
       "      <td>False</td>\n",
       "      <td>False</td>\n",
       "      <td>False</td>\n",
       "      <td>False</td>\n",
       "      <td>False</td>\n",
       "      <td>False</td>\n",
       "      <td>False</td>\n",
       "      <td>False</td>\n",
       "      <td>False</td>\n",
       "      <td>False</td>\n",
       "      <td>False</td>\n",
       "      <td>False</td>\n",
       "      <td>False</td>\n",
       "    </tr>\n",
       "    <tr>\n",
       "      <th>1</th>\n",
       "      <td>False</td>\n",
       "      <td>False</td>\n",
       "      <td>False</td>\n",
       "      <td>False</td>\n",
       "      <td>False</td>\n",
       "      <td>False</td>\n",
       "      <td>False</td>\n",
       "      <td>False</td>\n",
       "      <td>False</td>\n",
       "      <td>False</td>\n",
       "      <td>False</td>\n",
       "      <td>False</td>\n",
       "      <td>False</td>\n",
       "      <td>False</td>\n",
       "      <td>False</td>\n",
       "      <td>False</td>\n",
       "      <td>False</td>\n",
       "      <td>False</td>\n",
       "      <td>False</td>\n",
       "    </tr>\n",
       "    <tr>\n",
       "      <th>2</th>\n",
       "      <td>False</td>\n",
       "      <td>False</td>\n",
       "      <td>False</td>\n",
       "      <td>False</td>\n",
       "      <td>False</td>\n",
       "      <td>False</td>\n",
       "      <td>False</td>\n",
       "      <td>False</td>\n",
       "      <td>False</td>\n",
       "      <td>False</td>\n",
       "      <td>False</td>\n",
       "      <td>False</td>\n",
       "      <td>False</td>\n",
       "      <td>False</td>\n",
       "      <td>False</td>\n",
       "      <td>False</td>\n",
       "      <td>False</td>\n",
       "      <td>False</td>\n",
       "      <td>False</td>\n",
       "    </tr>\n",
       "    <tr>\n",
       "      <th>3</th>\n",
       "      <td>False</td>\n",
       "      <td>False</td>\n",
       "      <td>False</td>\n",
       "      <td>False</td>\n",
       "      <td>False</td>\n",
       "      <td>False</td>\n",
       "      <td>False</td>\n",
       "      <td>False</td>\n",
       "      <td>False</td>\n",
       "      <td>False</td>\n",
       "      <td>False</td>\n",
       "      <td>False</td>\n",
       "      <td>False</td>\n",
       "      <td>False</td>\n",
       "      <td>False</td>\n",
       "      <td>False</td>\n",
       "      <td>False</td>\n",
       "      <td>False</td>\n",
       "      <td>False</td>\n",
       "    </tr>\n",
       "    <tr>\n",
       "      <th>4</th>\n",
       "      <td>False</td>\n",
       "      <td>False</td>\n",
       "      <td>False</td>\n",
       "      <td>False</td>\n",
       "      <td>False</td>\n",
       "      <td>False</td>\n",
       "      <td>False</td>\n",
       "      <td>False</td>\n",
       "      <td>False</td>\n",
       "      <td>False</td>\n",
       "      <td>False</td>\n",
       "      <td>False</td>\n",
       "      <td>False</td>\n",
       "      <td>False</td>\n",
       "      <td>False</td>\n",
       "      <td>False</td>\n",
       "      <td>False</td>\n",
       "      <td>False</td>\n",
       "      <td>False</td>\n",
       "    </tr>\n",
       "  </tbody>\n",
       "</table></div>"
      ],
      "text/plain": [
       "   Country   Year  Status  Life Expectancy  Adult Mortality  Infant Deaths  \\\n",
       "0    False  False   False            False            False          False   \n",
       "1    False  False   False            False            False          False   \n",
       "2    False  False   False            False            False          False   \n",
       "3    False  False   False            False            False          False   \n",
       "4    False  False   False            False            False          False   \n",
       "\n",
       "   Alcohol  Percentage Expenditure  Measles    Bmi  Under-Five Deaths  Polio  \\\n",
       "0    False                   False    False  False              False  False   \n",
       "1    False                   False    False  False              False  False   \n",
       "2    False                   False    False  False              False  False   \n",
       "3    False                   False    False  False              False  False   \n",
       "4    False                   False    False  False              False  False   \n",
       "\n",
       "   Total Expenditure  Diphtheria  Hiv/Aids  Thinness  1-19 Years  \\\n",
       "0              False       False     False                 False   \n",
       "1              False       False     False                 False   \n",
       "2              False       False     False                 False   \n",
       "3              False       False     False                 False   \n",
       "4              False       False     False                 False   \n",
       "\n",
       "   Thinness 5-9 Years  Income Composition Of Resources  Schooling  \n",
       "0               False                            False      False  \n",
       "1               False                            False      False  \n",
       "2               False                            False      False  \n",
       "3               False                            False      False  \n",
       "4               False                            False      False  "
      ]
     },
     "execution_count": 27,
     "metadata": {},
     "output_type": "execute_result"
    }
   ],
   "source": [
    "nan_check = df.isnull()\n",
    "nan_check.head()"
   ]
  },
  {
   "cell_type": "code",
   "execution_count": 28,
   "id": "71c2833f-2bb7-4507-bd0d-68331db22dd2",
   "metadata": {},
   "outputs": [
    {
     "data": {
      "text/plain": [
       "Index(['Country', 'Year', 'Status', 'Life Expectancy', 'Adult Mortality',\n",
       "       'Infant Deaths', 'Alcohol', 'Percentage Expenditure', 'Measles', 'Bmi',\n",
       "       'Under-Five Deaths', 'Polio', 'Total Expenditure', 'Diphtheria',\n",
       "       'Hiv/Aids', 'Thinness  1-19 Years', 'Thinness 5-9 Years',\n",
       "       'Income Composition Of Resources', 'Schooling'],\n",
       "      dtype='object')"
      ]
     },
     "execution_count": 28,
     "metadata": {},
     "output_type": "execute_result"
    }
   ],
   "source": [
    "df.columns"
   ]
  },
  {
   "cell_type": "markdown",
   "id": "8f271b86-5045-43c8-9d0a-962fe8ea1f25",
   "metadata": {},
   "source": [
    "The following functions are created to fill in missing values in each feature. For example, fill_nan_polio finds null values in the Polio column of df, and fills it with the mean value in nan_polio by matching the countries together (i.e if Polio data for 2013 Canada is missing in df, fill_nan_polio will take the mean value of Canada's Polio data from nan_polio and replace the null value with it."
   ]
  },
  {
   "cell_type": "code",
   "execution_count": 29,
   "id": "4c28bf15-bd30-4343-b3a1-b5acb7640f4c",
   "metadata": {},
   "outputs": [],
   "source": [
    "def fill_nan_polio(df):\n",
    "    for i in range(0, len(df)):\n",
    "        if nan_check.iloc[i, 11] == True:\n",
    "            df.iloc[i, 11] = nan_polio.loc[df.iloc[i, 0], 'Polio']\n",
    "            \n",
    "def fill_nan_bmi(df):\n",
    "    for i in range(0, len(df)):\n",
    "        if nan_check.iloc[i, 9] == True:\n",
    "            df.iloc[i, 9] = nan_bmi.loc[df.iloc[i, 0], 'Polio']\n",
    "\n",
    "def fill_nan_diphtheria(df):\n",
    "    for i in range(0, len(df)):\n",
    "        if nan_check.iloc[i, 13] == True:\n",
    "            df.iloc[i, 13] = nan_diphtheria.loc[df.iloc[i, 0], 'Diphtheria']\n",
    "            \n",
    "def fill_nan_income(df):\n",
    "    for i in range(0, len(df)):\n",
    "        if nan_check.iloc[i, 17] == True:\n",
    "            df.iloc[i, 17] = nan_income.loc[df.iloc[i, 0], 'Income Composition Of Resources']\n",
    "            \n",
    "def fill_nan_schooling(df):\n",
    "    for i in range(0, len(df)):\n",
    "        if nan_check.iloc[i, 18] == True:\n",
    "            df.iloc[i, 18] = nan_schooling.loc[df.iloc[i, 0], 'Schooling']\n",
    "            \n",
    "def fill_nan_alcohol(df):\n",
    "    for i in range(0, len(df)):\n",
    "        if nan_check.iloc[i, 6] == True:\n",
    "            df.iloc[i, 6] = nan_alcohol.loc[df.iloc[i, 0], 'Alcohol']\n",
    "            \n",
    "def fill_nan_expenditure(df):\n",
    "    for i in range(0, len(df)):\n",
    "        if nan_check.iloc[i, 12] == True:\n",
    "            df.iloc[i, 12] = nan_expenditure.loc[df.iloc[i, 0], 'Total Expenditure']"
   ]
  },
  {
   "cell_type": "code",
   "execution_count": 30,
   "id": "9bf073e8-4f04-4191-8e00-d16a5fea535f",
   "metadata": {},
   "outputs": [],
   "source": [
    "to_fill = df.copy()"
   ]
  },
  {
   "cell_type": "code",
   "execution_count": 31,
   "id": "0cbbf9ae-92f1-4b36-a176-f3c7738c9d5a",
   "metadata": {},
   "outputs": [
    {
     "data": {
      "text/plain": [
       "0        6.0\n",
       "1       58.0\n",
       "2       62.0\n",
       "3       67.0\n",
       "4       68.0\n",
       "        ... \n",
       "2933    67.0\n",
       "2934     7.0\n",
       "2935    73.0\n",
       "2936    76.0\n",
       "2937    78.0\n",
       "Name: Polio, Length: 2736, dtype: float64"
      ]
     },
     "execution_count": 31,
     "metadata": {},
     "output_type": "execute_result"
    }
   ],
   "source": [
    "fill_nan_polio(to_fill)\n",
    "to_fill['Polio']"
   ]
  },
  {
   "cell_type": "code",
   "execution_count": 32,
   "id": "96d4e983-3913-4ef4-a06e-035fee05f85f",
   "metadata": {},
   "outputs": [
    {
     "data": {
      "text/plain": [
       "0       65.0\n",
       "1       62.0\n",
       "2       64.0\n",
       "3       67.0\n",
       "4       68.0\n",
       "        ... \n",
       "2933    65.0\n",
       "2934    68.0\n",
       "2935    71.0\n",
       "2936    75.0\n",
       "2937    78.0\n",
       "Name: Diphtheria, Length: 2736, dtype: float64"
      ]
     },
     "execution_count": 32,
     "metadata": {},
     "output_type": "execute_result"
    }
   ],
   "source": [
    "fill_nan_diphtheria(to_fill)\n",
    "to_fill['Diphtheria']"
   ]
  },
  {
   "cell_type": "code",
   "execution_count": 33,
   "id": "c111f00c-b3cc-4c84-b65b-61b24503398b",
   "metadata": {},
   "outputs": [],
   "source": [
    "fill_nan_bmi(to_fill)\n",
    "fill_nan_income(to_fill)\n",
    "fill_nan_schooling(to_fill)\n",
    "fill_nan_alcohol(to_fill)\n",
    "fill_nan_expenditure(to_fill)"
   ]
  },
  {
   "cell_type": "code",
   "execution_count": 34,
   "id": "8a01ec3b-fd8b-4196-88bd-babe7811a77b",
   "metadata": {},
   "outputs": [
    {
     "name": "stdout",
     "output_type": "stream",
     "text": [
      "<class 'pandas.core.frame.DataFrame'>\n",
      "Int64Index: 2736 entries, 0 to 2937\n",
      "Data columns (total 19 columns):\n",
      " #   Column                           Non-Null Count  Dtype  \n",
      "---  ------                           --------------  -----  \n",
      " 0   Country                          2736 non-null   object \n",
      " 1   Year                             2736 non-null   int64  \n",
      " 2   Status                           2736 non-null   object \n",
      " 3   Life Expectancy                  2736 non-null   float64\n",
      " 4   Adult Mortality                  2736 non-null   float64\n",
      " 5   Infant Deaths                    2736 non-null   int64  \n",
      " 6   Alcohol                          2736 non-null   float64\n",
      " 7   Percentage Expenditure           2736 non-null   float64\n",
      " 8   Measles                          2736 non-null   int64  \n",
      " 9   Bmi                              2736 non-null   float64\n",
      " 10  Under-Five Deaths                2736 non-null   int64  \n",
      " 11  Polio                            2736 non-null   float64\n",
      " 12  Total Expenditure                2736 non-null   float64\n",
      " 13  Diphtheria                       2736 non-null   float64\n",
      " 14  Hiv/Aids                         2736 non-null   float64\n",
      " 15  Thinness  1-19 Years             2736 non-null   float64\n",
      " 16  Thinness 5-9 Years               2736 non-null   float64\n",
      " 17  Income Composition Of Resources  2736 non-null   float64\n",
      " 18  Schooling                        2736 non-null   float64\n",
      "dtypes: float64(13), int64(4), object(2)\n",
      "memory usage: 507.5+ KB\n"
     ]
    }
   ],
   "source": [
    "to_fill.info()"
   ]
  },
  {
   "cell_type": "code",
   "execution_count": 35,
   "id": "e976838a-40c8-45fc-8da2-bd8bd07f2ede",
   "metadata": {},
   "outputs": [
    {
     "data": {
      "text/plain": [
       "Index(['Country', 'Year', 'Status', 'Life Expectancy', 'Adult Mortality',\n",
       "       'Infant Deaths', 'Alcohol', 'Percentage Expenditure', 'Measles', 'Bmi',\n",
       "       'Under-Five Deaths', 'Polio', 'Total Expenditure', 'Diphtheria',\n",
       "       'Hiv/Aids', 'Thinness  1-19 Years', 'Thinness 5-9 Years',\n",
       "       'Income Composition Of Resources', 'Schooling'],\n",
       "      dtype='object')"
      ]
     },
     "execution_count": 35,
     "metadata": {},
     "output_type": "execute_result"
    }
   ],
   "source": [
    "to_fill.columns"
   ]
  },
  {
   "cell_type": "markdown",
   "id": "f785166f-2198-43e9-9dd9-89e6586f20d1",
   "metadata": {},
   "source": [
    "### Final DataFrame"
   ]
  },
  {
   "cell_type": "code",
   "execution_count": 36,
   "id": "6781e500-b2c0-4c4f-bf45-b06c5de9e6be",
   "metadata": {},
   "outputs": [],
   "source": [
    "final_df = to_fill[['Life Expectancy', 'Adult Mortality',\n",
    "                    'Infant Deaths', 'Alcohol', 'Percentage Expenditure', 'Measles', 'Bmi',\n",
    "                    'Under-Five Deaths', 'Polio', 'Total Expenditure', 'Diphtheria',\n",
    "                    'Hiv/Aids', 'Thinness  1-19 Years', 'Thinness 5-9 Years',\n",
    "                    'Income Composition Of Resources', 'Schooling']]"
   ]
  },
  {
   "cell_type": "code",
   "execution_count": 37,
   "id": "88ad743f-5470-4ec6-be7a-0442c3641358",
   "metadata": {},
   "outputs": [
    {
     "data": {
      "text/html": [
       "<div><div id=bdc79fb6-1c32-4215-b15a-63841d6d2e3d style=\"display:none; background-color:#9D6CFF; color:white; width:200px; height:30px; padding-left:5px; border-radius:4px; flex-direction:row; justify-content:space-around; align-items:center;\" onmouseover=\"this.style.backgroundColor='#BA9BF8'\" onmouseout=\"this.style.backgroundColor='#9D6CFF'\" onclick=\"window.commands?.execute('create-mitosheet-from-dataframe-output');\">See Full Dataframe in Mito</div> <script> if (window.commands?.hasCommand('create-mitosheet-from-dataframe-output')) document.getElementById('bdc79fb6-1c32-4215-b15a-63841d6d2e3d').style.display = 'flex' </script> <table border=\"1\" class=\"dataframe\">\n",
       "  <thead>\n",
       "    <tr style=\"text-align: right;\">\n",
       "      <th></th>\n",
       "      <th>Life Expectancy</th>\n",
       "      <th>Adult Mortality</th>\n",
       "      <th>Infant Deaths</th>\n",
       "      <th>Alcohol</th>\n",
       "      <th>Percentage Expenditure</th>\n",
       "      <th>Measles</th>\n",
       "      <th>Bmi</th>\n",
       "      <th>Under-Five Deaths</th>\n",
       "      <th>Polio</th>\n",
       "      <th>Total Expenditure</th>\n",
       "      <th>Diphtheria</th>\n",
       "      <th>Hiv/Aids</th>\n",
       "      <th>Thinness  1-19 Years</th>\n",
       "      <th>Thinness 5-9 Years</th>\n",
       "      <th>Income Composition Of Resources</th>\n",
       "      <th>Schooling</th>\n",
       "    </tr>\n",
       "  </thead>\n",
       "  <tbody>\n",
       "    <tr>\n",
       "      <th>0</th>\n",
       "      <td>65.0</td>\n",
       "      <td>263.0</td>\n",
       "      <td>62</td>\n",
       "      <td>0.01</td>\n",
       "      <td>71.279624</td>\n",
       "      <td>1154</td>\n",
       "      <td>19.1</td>\n",
       "      <td>83</td>\n",
       "      <td>6.0</td>\n",
       "      <td>8.16</td>\n",
       "      <td>65.0</td>\n",
       "      <td>0.1</td>\n",
       "      <td>17.2</td>\n",
       "      <td>17.3</td>\n",
       "      <td>0.479</td>\n",
       "      <td>10.1</td>\n",
       "    </tr>\n",
       "    <tr>\n",
       "      <th>1</th>\n",
       "      <td>59.9</td>\n",
       "      <td>271.0</td>\n",
       "      <td>64</td>\n",
       "      <td>0.01</td>\n",
       "      <td>73.523582</td>\n",
       "      <td>492</td>\n",
       "      <td>18.6</td>\n",
       "      <td>86</td>\n",
       "      <td>58.0</td>\n",
       "      <td>8.18</td>\n",
       "      <td>62.0</td>\n",
       "      <td>0.1</td>\n",
       "      <td>17.5</td>\n",
       "      <td>17.5</td>\n",
       "      <td>0.476</td>\n",
       "      <td>10.0</td>\n",
       "    </tr>\n",
       "    <tr>\n",
       "      <th>2</th>\n",
       "      <td>59.9</td>\n",
       "      <td>268.0</td>\n",
       "      <td>66</td>\n",
       "      <td>0.01</td>\n",
       "      <td>73.219243</td>\n",
       "      <td>430</td>\n",
       "      <td>18.1</td>\n",
       "      <td>89</td>\n",
       "      <td>62.0</td>\n",
       "      <td>8.13</td>\n",
       "      <td>64.0</td>\n",
       "      <td>0.1</td>\n",
       "      <td>17.7</td>\n",
       "      <td>17.7</td>\n",
       "      <td>0.470</td>\n",
       "      <td>9.9</td>\n",
       "    </tr>\n",
       "    <tr>\n",
       "      <th>3</th>\n",
       "      <td>59.5</td>\n",
       "      <td>272.0</td>\n",
       "      <td>69</td>\n",
       "      <td>0.01</td>\n",
       "      <td>78.184215</td>\n",
       "      <td>2787</td>\n",
       "      <td>17.6</td>\n",
       "      <td>93</td>\n",
       "      <td>67.0</td>\n",
       "      <td>8.52</td>\n",
       "      <td>67.0</td>\n",
       "      <td>0.1</td>\n",
       "      <td>17.9</td>\n",
       "      <td>18.0</td>\n",
       "      <td>0.463</td>\n",
       "      <td>9.8</td>\n",
       "    </tr>\n",
       "    <tr>\n",
       "      <th>4</th>\n",
       "      <td>59.2</td>\n",
       "      <td>275.0</td>\n",
       "      <td>71</td>\n",
       "      <td>0.01</td>\n",
       "      <td>7.097109</td>\n",
       "      <td>3013</td>\n",
       "      <td>17.2</td>\n",
       "      <td>97</td>\n",
       "      <td>68.0</td>\n",
       "      <td>7.87</td>\n",
       "      <td>68.0</td>\n",
       "      <td>0.1</td>\n",
       "      <td>18.2</td>\n",
       "      <td>18.2</td>\n",
       "      <td>0.454</td>\n",
       "      <td>9.5</td>\n",
       "    </tr>\n",
       "  </tbody>\n",
       "</table></div>"
      ],
      "text/plain": [
       "   Life Expectancy  Adult Mortality  Infant Deaths  Alcohol  \\\n",
       "0             65.0            263.0             62     0.01   \n",
       "1             59.9            271.0             64     0.01   \n",
       "2             59.9            268.0             66     0.01   \n",
       "3             59.5            272.0             69     0.01   \n",
       "4             59.2            275.0             71     0.01   \n",
       "\n",
       "   Percentage Expenditure  Measles   Bmi  Under-Five Deaths  Polio  \\\n",
       "0               71.279624     1154  19.1                 83    6.0   \n",
       "1               73.523582      492  18.6                 86   58.0   \n",
       "2               73.219243      430  18.1                 89   62.0   \n",
       "3               78.184215     2787  17.6                 93   67.0   \n",
       "4                7.097109     3013  17.2                 97   68.0   \n",
       "\n",
       "   Total Expenditure  Diphtheria  Hiv/Aids  Thinness  1-19 Years  \\\n",
       "0               8.16        65.0       0.1                  17.2   \n",
       "1               8.18        62.0       0.1                  17.5   \n",
       "2               8.13        64.0       0.1                  17.7   \n",
       "3               8.52        67.0       0.1                  17.9   \n",
       "4               7.87        68.0       0.1                  18.2   \n",
       "\n",
       "   Thinness 5-9 Years  Income Composition Of Resources  Schooling  \n",
       "0                17.3                            0.479       10.1  \n",
       "1                17.5                            0.476       10.0  \n",
       "2                17.7                            0.470        9.9  \n",
       "3                18.0                            0.463        9.8  \n",
       "4                18.2                            0.454        9.5  "
      ]
     },
     "execution_count": 37,
     "metadata": {},
     "output_type": "execute_result"
    }
   ],
   "source": [
    "final_df.head()"
   ]
  },
  {
   "cell_type": "markdown",
   "id": "d1643f4b-f157-43df-a62c-f5359909e6b0",
   "metadata": {},
   "source": [
    "## Multi-linear Regression Model"
   ]
  },
  {
   "cell_type": "markdown",
   "id": "d52ff79c-b3be-4284-8686-989248b56e1b",
   "metadata": {},
   "source": [
    "Separating data into X features and y label"
   ]
  },
  {
   "cell_type": "code",
   "execution_count": 38,
   "id": "8ed5ef33-14ff-4c84-aa01-9fa5ac912812",
   "metadata": {},
   "outputs": [],
   "source": [
    "X = final_df.drop('Life Expectancy',axis=1)\n",
    "y = final_df['Life Expectancy']"
   ]
  },
  {
   "cell_type": "markdown",
   "id": "625f4955-328d-4266-a01c-28a1c28256c1",
   "metadata": {},
   "source": [
    "Splitting X and y into a training set and test set"
   ]
  },
  {
   "cell_type": "code",
   "execution_count": 39,
   "id": "3deb9bcf-2084-49b6-b9d6-2ac1e73d520d",
   "metadata": {},
   "outputs": [],
   "source": [
    "from sklearn.model_selection import train_test_split"
   ]
  },
  {
   "cell_type": "code",
   "execution_count": 40,
   "id": "0f2a9705-0590-457c-bc5d-e601968c3e05",
   "metadata": {},
   "outputs": [],
   "source": [
    "X_train, X_test, y_train, y_test = train_test_split(X, y, test_size=0.10, random_state=101)"
   ]
  },
  {
   "cell_type": "markdown",
   "id": "ecd194e1-def4-4599-9ed3-987d81909367",
   "metadata": {},
   "source": [
    "Scale X features"
   ]
  },
  {
   "cell_type": "code",
   "execution_count": 41,
   "id": "62ef0c7d-f149-43f4-9071-8c23b4ea3bdf",
   "metadata": {},
   "outputs": [],
   "source": [
    "from sklearn.preprocessing import StandardScaler"
   ]
  },
  {
   "cell_type": "code",
   "execution_count": 42,
   "id": "ec5f2f64-b79e-40aa-a437-0110352e51c8",
   "metadata": {},
   "outputs": [],
   "source": [
    "scaler = StandardScaler()"
   ]
  },
  {
   "cell_type": "code",
   "execution_count": 43,
   "id": "7e912fb7-b7d2-45c3-be41-7f6949053965",
   "metadata": {},
   "outputs": [],
   "source": [
    "scaled_X_train = scaler.fit_transform(X_train)\n",
    "scaled_X_test = scaler.transform(X_test)"
   ]
  },
  {
   "cell_type": "markdown",
   "id": "6a5b6424-086b-445d-aca5-b2e0b0729a55",
   "metadata": {},
   "source": [
    "Using the ElasticNet model (regularization)"
   ]
  },
  {
   "cell_type": "code",
   "execution_count": 44,
   "id": "50fb701b-37b9-4f56-aa06-cb60ea3005c4",
   "metadata": {},
   "outputs": [],
   "source": [
    "from sklearn.linear_model import ElasticNet"
   ]
  },
  {
   "cell_type": "code",
   "execution_count": 45,
   "id": "1f8a54e7-6f23-4f7e-90af-fab51ffe5d19",
   "metadata": {},
   "outputs": [],
   "source": [
    "base_elastic_model = ElasticNet()"
   ]
  },
  {
   "cell_type": "code",
   "execution_count": 46,
   "id": "72d4e66a-6769-4d65-9ec0-37a1cff14c19",
   "metadata": {},
   "outputs": [],
   "source": [
    "param_grid = {'alpha':[0.1,1,5,10,50,100],\n",
    "              'l1_ratio':[.1, .5, .7, .9, .95, .99, 1]}"
   ]
  },
  {
   "cell_type": "markdown",
   "id": "9a69e6e8-6550-4c78-83fa-c1a2442d23ef",
   "metadata": {},
   "source": [
    "Creating a GridSearchCV object and run a grid search for the best parameters for the model based on the scaled training data"
   ]
  },
  {
   "cell_type": "code",
   "execution_count": 47,
   "id": "7865fb85-3cc9-47af-88ec-c12746d2e2c1",
   "metadata": {},
   "outputs": [],
   "source": [
    "from sklearn.model_selection import GridSearchCV"
   ]
  },
  {
   "cell_type": "code",
   "execution_count": 48,
   "id": "df0a3b9a-e1a4-4a18-b201-a238a38e0bcf",
   "metadata": {},
   "outputs": [],
   "source": [
    "grid_model = GridSearchCV(estimator=base_elastic_model,\n",
    "                          param_grid=param_grid,\n",
    "                          scoring='neg_mean_squared_error',\n",
    "                          cv=10,\n",
    "                          verbose=1)"
   ]
  },
  {
   "cell_type": "code",
   "execution_count": 49,
   "id": "ba78a181-dbf1-4f0b-94d4-4b4d18902f63",
   "metadata": {},
   "outputs": [
    {
     "name": "stdout",
     "output_type": "stream",
     "text": [
      "Fitting 10 folds for each of 42 candidates, totalling 420 fits\n"
     ]
    },
    {
     "name": "stderr",
     "output_type": "stream",
     "text": [
      "[Parallel(n_jobs=1)]: Using backend SequentialBackend with 1 concurrent workers.\n",
      "[Parallel(n_jobs=1)]: Done 420 out of 420 | elapsed:    0.6s finished\n"
     ]
    },
    {
     "data": {
      "text/plain": [
       "GridSearchCV(cv=10, estimator=ElasticNet(),\n",
       "             param_grid={'alpha': [0.1, 1, 5, 10, 50, 100],\n",
       "                         'l1_ratio': [0.1, 0.5, 0.7, 0.9, 0.95, 0.99, 1]},\n",
       "             scoring='neg_mean_squared_error', verbose=1)"
      ]
     },
     "execution_count": 49,
     "metadata": {},
     "output_type": "execute_result"
    }
   ],
   "source": [
    "grid_model.fit(scaled_X_train,y_train)"
   ]
  },
  {
   "cell_type": "markdown",
   "id": "5eebeeca-2727-4d90-9d8d-80b5633bf9dc",
   "metadata": {},
   "source": [
    "Displaying the best combination of parameters for the model"
   ]
  },
  {
   "cell_type": "code",
   "execution_count": 50,
   "id": "e88c9950-2754-4f04-906f-cab0cf8a4731",
   "metadata": {},
   "outputs": [
    {
     "data": {
      "text/plain": [
       "{'alpha': 0.1, 'l1_ratio': 0.7}"
      ]
     },
     "execution_count": 50,
     "metadata": {},
     "output_type": "execute_result"
    }
   ],
   "source": [
    "grid_model.best_params_"
   ]
  },
  {
   "cell_type": "code",
   "execution_count": 51,
   "id": "dc193721-5a15-42bf-99b9-579eb57c450d",
   "metadata": {},
   "outputs": [],
   "source": [
    "y_pred = grid_model.predict(scaled_X_test)"
   ]
  },
  {
   "cell_type": "markdown",
   "id": "2494dc73-a3a8-44f6-ba38-a307b6a90963",
   "metadata": {},
   "source": [
    "Calculating mean absolute error and root mean squared error"
   ]
  },
  {
   "cell_type": "code",
   "execution_count": 52,
   "id": "15a8c3bd-aa4a-42d4-9e2d-3a39e6e9239d",
   "metadata": {},
   "outputs": [],
   "source": [
    "from sklearn.metrics import mean_absolute_error,mean_squared_error"
   ]
  },
  {
   "cell_type": "code",
   "execution_count": 53,
   "id": "4f23d41f-0478-4ab2-bf0f-a19d4384e208",
   "metadata": {},
   "outputs": [
    {
     "data": {
      "text/plain": [
       "3.28692313549028"
      ]
     },
     "execution_count": 53,
     "metadata": {},
     "output_type": "execute_result"
    }
   ],
   "source": [
    "# MAE\n",
    "mean_absolute_error(y_test,y_pred)"
   ]
  },
  {
   "cell_type": "code",
   "execution_count": 54,
   "id": "d98ecdb7-9967-43c6-a179-c1ea9ec425d1",
   "metadata": {},
   "outputs": [
    {
     "data": {
      "text/plain": [
       "4.424460206230158"
      ]
     },
     "execution_count": 54,
     "metadata": {},
     "output_type": "execute_result"
    }
   ],
   "source": [
    "# RMSE\n",
    "np.sqrt(mean_squared_error(y_test,y_pred))"
   ]
  },
  {
   "cell_type": "code",
   "execution_count": 55,
   "id": "8efa25ab-c7ce-457c-a4c5-e14c211c7656",
   "metadata": {},
   "outputs": [
    {
     "data": {
      "text/plain": [
       "69.48406432748541"
      ]
     },
     "execution_count": 55,
     "metadata": {},
     "output_type": "execute_result"
    }
   ],
   "source": [
    "np.mean(final_df['Life Expectancy'])"
   ]
  },
  {
   "cell_type": "markdown",
   "id": "e82402d4-f4cb-4343-97e5-9f107a51140b",
   "metadata": {},
   "source": [
    "Calculating R2 score"
   ]
  },
  {
   "cell_type": "code",
   "execution_count": 56,
   "id": "7f9eaa91-2e35-45b0-9c94-1c6565420924",
   "metadata": {},
   "outputs": [],
   "source": [
    "from sklearn.metrics import r2_score"
   ]
  },
  {
   "cell_type": "code",
   "execution_count": 57,
   "id": "3cbf3221-a3d0-4b12-8966-fe7c2aa604e2",
   "metadata": {},
   "outputs": [
    {
     "data": {
      "text/plain": [
       "0.8037310357445849"
      ]
     },
     "execution_count": 57,
     "metadata": {},
     "output_type": "execute_result"
    }
   ],
   "source": [
    "r2_score(y_test,y_pred)"
   ]
  }
 ],
 "metadata": {
  "kernelspec": {
   "display_name": "Python 3",
   "language": "python",
   "name": "python3"
  },
  "language_info": {
   "codemirror_mode": {
    "name": "ipython",
    "version": 3
   },
   "file_extension": ".py",
   "mimetype": "text/x-python",
   "name": "python",
   "nbconvert_exporter": "python",
   "pygments_lexer": "ipython3",
   "version": "3.8.3"
  }
 },
 "nbformat": 4,
 "nbformat_minor": 5
}
